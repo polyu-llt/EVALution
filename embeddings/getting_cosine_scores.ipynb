{
 "cells": [
  {
   "cell_type": "markdown",
   "metadata": {},
   "source": [
    "INPUT (RELATIONS.txt):\n",
    "```\n",
    "abstract        Antonym concrete        OBJECT_3/5,EMOTION_2/5,EVENT_2/5,RELATIONSHIP_1/5       abstract can be used as the opposite of concrete        0       0       0       3       2       0.91234 5       4.4     0.3     4.1     wordnet/4.0     score\n",
    "accident        Antonym plan    CULTURE_1/5,EVENT_4/5   accident can be used as the opposite of plan    0       0       0       12      26      0.953509047619  38      4.68421052632   0.221906116643  4.46230440968   verbosity       0.0445190226130131\n",
    "accident        Antonym purpose EVENT_5/5       accident can be used as the opposite of purpose 0       0       0       3       2       0.913916666666  5     \n",
    "```\n",
    "OUTPUT:\n",
    "```\n",
    "Antonym accident        plan    0.032411445017164385\n",
    "Antonym accident        purpose 0.03388791609175391\n",
    "Synonym accident        event   0.23041086878712244\n",
    "```"
   ]
  },
  {
   "cell_type": "code",
   "execution_count": null,
   "metadata": {},
   "outputs": [],
   "source": [
    "import gensim\n",
    "from gensim.models.keyedvectors import KeyedVectors as wk\n",
    "\n",
    "# Load pretrained model (since intermediate data is not included, the model cannot be refined with additional data)\n",
    "model = gensim.models.KeyedVectors.load_word2vec_format('GoogleNews-vectors-negative300.bin', binary=True)\n"
   ]
  },
  {
   "cell_type": "code",
   "execution_count": null,
   "metadata": {},
   "outputs": [],
   "source": [
    "import pandas as pd\n",
    "import csv\n",
    "\n",
    "df_relations = pd.read_csv('RELATIONS.txt',sep=\"\\t\")\n",
    "f = open('cosine_sim_en.txt', 'w')  \n",
    "writer = csv.writer(f, delimiter = '\\t')\n",
    "\n",
    "for index, row in df_relations.iterrows():\n",
    "    word1 = row[0]\n",
    "    word2 = row[2]\n",
    "    if word1 in model.vocab and word2 in model.vocab:\n",
    "        writer.writerow([row[1], word1, word2,  model.similarity(row[0], row[2])])# , model.rank(row[0], row[2])] ) "
   ]
  }
 ],
 "metadata": {
  "kernelspec": {
   "display_name": "Python 3",
   "language": "python",
   "name": "python3"
  },
  "language_info": {
   "codemirror_mode": {
    "name": "ipython",
    "version": 3
   },
   "file_extension": ".py",
   "mimetype": "text/x-python",
   "name": "python",
   "nbconvert_exporter": "python",
   "pygments_lexer": "ipython3",
   "version": "3.5.2"
  }
 },
 "nbformat": 4,
 "nbformat_minor": 2
}
